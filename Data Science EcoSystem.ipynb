{
 "cells": [
  {
   "cell_type": "markdown",
   "id": "96636bb8",
   "metadata": {},
   "source": [
    "# Data Science Tools and Ecosystem #"
   ]
  },
  {
   "cell_type": "markdown",
   "id": "146c3585",
   "metadata": {},
   "source": [
    "# Introduction #\n",
    "In this notebook, Data Science Tools and Ecosystem are summarized"
   ]
  },
  {
   "cell_type": "markdown",
   "id": "6f74d366",
   "metadata": {},
   "source": [
    "**Objectives:**"
   ]
  },
  {
   "cell_type": "markdown",
   "id": "5910da3b",
   "metadata": {},
   "source": [
    "* Popular languages Data Scientist use\n",
    "* Open Source Development Environment tools used in Data Science\n",
    "* Arithemetic Expressions\n"
   ]
  },
  {
   "cell_type": "markdown",
   "id": "703bbb2b",
   "metadata": {},
   "source": [
    "# Popular Languages Data Scientist use #\n",
    "Some of the popular languages that Data Scientists use are:"
   ]
  },
  {
   "cell_type": "markdown",
   "id": "08802cb2",
   "metadata": {},
   "source": [
    "1. Python\n",
    "2. R\n",
    "3. SQL\n",
    "4. Julia\n",
    "5. Scala\n",
    "6. Java"
   ]
  },
  {
   "cell_type": "markdown",
   "id": "4dc432b4",
   "metadata": {},
   "source": [
    "# Data Science Tools #\n",
    "The following are 3 development environments open source tools used in data science"
   ]
  },
  {
   "cell_type": "markdown",
   "id": "5e7142e2",
   "metadata": {},
   "source": [
    "| Data Science Tools |\n",
    "|------------------- |\n",
    "| Jupter Notebook |\n",
    "| Visual Studiocode |\n",
    "| RStudio|"
   ]
  },
  {
   "cell_type": "markdown",
   "id": "1a25cb73",
   "metadata": {},
   "source": [
    "# Arithmetic Expression #"
   ]
  },
  {
   "cell_type": "markdown",
   "id": "8eea03bc",
   "metadata": {},
   "source": [
    "### Below are a few examples of evaluating arithmetic expressions in Python ###"
   ]
  },
  {
   "cell_type": "code",
   "execution_count": 3,
   "id": "397c5e4d",
   "metadata": {},
   "outputs": [
    {
     "data": {
      "text/plain": [
       "17"
      ]
     },
     "execution_count": 3,
     "metadata": {},
     "output_type": "execute_result"
    }
   ],
   "source": [
    "#This a simple arithmetic expression to mutiply then add integers\n",
    "(3*4)+5"
   ]
  },
  {
   "cell_type": "code",
   "execution_count": 4,
   "id": "98d03531",
   "metadata": {},
   "outputs": [
    {
     "name": "stdout",
     "output_type": "stream",
     "text": [
      "3.3333333333333335\n"
     ]
    }
   ],
   "source": [
    "#This will convert 200 minutes to hours by diving by 60\n",
    "minutes = 200\n",
    "# 60 minutes make an hour\n",
    "MinutesToHours = 60\n",
    "#this converts 200 minutes to hours\n",
    "CovertMinutesToHours = minutes/MinutesToHours\n",
    "print(CovertMinutesToHours)"
   ]
  },
  {
   "cell_type": "markdown",
   "id": "7e432cab",
   "metadata": {},
   "source": [
    "## Author ##\n",
    "Clare Onyewuchi"
   ]
  },
  {
   "cell_type": "code",
   "execution_count": null,
   "id": "5f6791ae",
   "metadata": {},
   "outputs": [],
   "source": []
  }
 ],
 "metadata": {
  "kernelspec": {
   "display_name": "Python 3 (ipykernel)",
   "language": "python",
   "name": "python3"
  },
  "language_info": {
   "codemirror_mode": {
    "name": "ipython",
    "version": 3
   },
   "file_extension": ".py",
   "mimetype": "text/x-python",
   "name": "python",
   "nbconvert_exporter": "python",
   "pygments_lexer": "ipython3",
   "version": "3.11.5"
  }
 },
 "nbformat": 4,
 "nbformat_minor": 5
}
