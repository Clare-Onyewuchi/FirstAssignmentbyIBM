{
 "cells": [
  {
   "cell_type": "markdown",
   "id": "1edef178-dd5b-462c-a1e8-d0a322872b31",
   "metadata": {},
   "source": [
    "# Data Science Tools and Ecosystem #"
   ]
  },
  {
   "cell_type": "markdown",
   "id": "fda348e0-7ba4-43d4-bb3e-051393c70d0d",
   "metadata": {},
   "source": [
    "# Introduction #\n",
    "In this notebook, Data Science Tools and Ecosystem are summarized"
   ]
  },
  {
   "cell_type": "markdown",
   "id": "b241e6e9-99bc-4319-89f6-c50275416128",
   "metadata": {},
   "source": [
    "**Objectives:**"
   ]
  },
  {
   "cell_type": "markdown",
   "id": "68d305de-9701-4563-8dae-62a73fca5899",
   "metadata": {},
   "source": [
    "* Popular languages Data Scientist use\n",
    "* Open Source Development Environment tools used in Data Science\n",
    "* Arithemetic Expressions"
   ]
  },
  {
   "cell_type": "markdown",
   "id": "73b8e7f9-cc4f-4c1d-bbaf-0b4a22f61f5b",
   "metadata": {
    "tags": []
   },
   "source": [
    "# Popular Languages Data Scientist use #\n",
    "Some of the popular languages that Data Scientists use are:"
   ]
  },
  {
   "cell_type": "markdown",
   "id": "ef6a51ac-02f6-40a3-8ca0-66260b097463",
   "metadata": {},
   "source": [
    "1. Python\n",
    "2. R\n",
    "3. SQL\n",
    "4. Julia\n",
    "5. Scala\n",
    "6. Java"
   ]
  },
  {
   "cell_type": "markdown",
   "id": "7e71c045-d662-4540-a904-441a02093573",
   "metadata": {},
   "source": [
    "# Data Science Libraries #"
   ]
  },
  {
   "cell_type": "markdown",
   "id": "cf0ddf89-3aee-450d-a9cb-406f2e9eba71",
   "metadata": {},
   "source": [
    "1. Pandas\n",
    "2. Numpy\n",
    "3. Matplotlib\n",
    "4. Seaborn\n",
    "5. NLTK\n",
    "6. TensorFlow"
   ]
  },
  {
   "cell_type": "markdown",
   "id": "3ed4c734-23f9-4ba9-b674-b20393ce9ddf",
   "metadata": {},
   "source": [
    "# Data Science Tools #\n",
    "The following are 3 development environments open source tools used in data science"
   ]
  },
  {
   "cell_type": "markdown",
   "id": "dc19e4cc-ba13-4502-afb2-5e275c8392d2",
   "metadata": {},
   "source": [
    "| Data Science Tools |\n",
    "|------------------- |\n",
    "| Jupter Notebook |\n",
    "| Visual Studiocode |\n",
    "| RStudio|"
   ]
  },
  {
   "cell_type": "markdown",
   "id": "b5f54ac0-06b4-424f-8d74-34fddf23322e",
   "metadata": {},
   "source": [
    "# Arithmetic Expression #"
   ]
  },
  {
   "cell_type": "markdown",
   "id": "c9e70700-7201-4549-b9ee-a8f2a315d37b",
   "metadata": {},
   "source": [
    "### Below are a few examples of evaluating arithmetic expressions in Python ###"
   ]
  },
  {
   "cell_type": "code",
   "execution_count": 2,
   "id": "e2e12d5a-a485-4908-83d4-b88502a32c10",
   "metadata": {
    "tags": []
   },
   "outputs": [
    {
     "data": {
      "text/plain": [
       "17"
      ]
     },
     "execution_count": 2,
     "metadata": {},
     "output_type": "execute_result"
    }
   ],
   "source": [
    "#This a simple arithmetic expression to mutiply then add integers\n",
    "(3*4)+5"
   ]
  },
  {
   "cell_type": "code",
   "execution_count": 3,
   "id": "208989ab-8c2a-499b-8e1c-26193f976e9c",
   "metadata": {
    "tags": []
   },
   "outputs": [
    {
     "name": "stdout",
     "output_type": "stream",
     "text": [
      "3.3333333333333335\n"
     ]
    }
   ],
   "source": [
    "#This will convert 200 minutes to hours by diving by 60\n",
    "minutes = 200\n",
    "# 60 minutes make an hour\n",
    "MinutesToHours = 60\n",
    "#this converts 200 minutes to hours\n",
    "CovertMinutesToHours = minutes/MinutesToHours\n",
    "print(CovertMinutesToHours)"
   ]
  },
  {
   "cell_type": "markdown",
   "id": "ccb67c72-5219-459e-9a5a-559adc86e61c",
   "metadata": {
    "tags": []
   },
   "source": [
    "## Author ##\n",
    "Clare Onyewuchi"
   ]
  },
  {
   "cell_type": "code",
   "execution_count": null,
   "id": "a2c58384-ade6-47f0-bff4-928fde6d51da",
   "metadata": {},
   "outputs": [],
   "source": []
  }
 ],
 "metadata": {
  "kernelspec": {
   "display_name": "Python",
   "language": "python",
   "name": "conda-env-python-py"
  },
  "language_info": {
   "codemirror_mode": {
    "name": "ipython",
    "version": 3
   },
   "file_extension": ".py",
   "mimetype": "text/x-python",
   "name": "python",
   "nbconvert_exporter": "python",
   "pygments_lexer": "ipython3",
   "version": "3.7.12"
  }
 },
 "nbformat": 4,
 "nbformat_minor": 5
}
